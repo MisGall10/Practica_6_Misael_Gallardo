{
  "nbformat": 4,
  "nbformat_minor": 0,
  "metadata": {
    "colab": {
      "provenance": [],
      "authorship_tag": "ABX9TyOLXxgkbteXTMezqfDBRbt7",
      "include_colab_link": true
    },
    "kernelspec": {
      "name": "python3",
      "display_name": "Python 3"
    },
    "language_info": {
      "name": "python"
    }
  },
  "cells": [
    {
      "cell_type": "markdown",
      "metadata": {
        "id": "view-in-github",
        "colab_type": "text"
      },
      "source": [
        "<a href=\"https://colab.research.google.com/github/MisGall10/Practica_6_Misael_Gallardo/blob/main/Practica6MAGC.ipynb\" target=\"_parent\"><img src=\"https://colab.research.google.com/assets/colab-badge.svg\" alt=\"Open In Colab\"/></a>"
      ]
    },
    {
      "cell_type": "markdown",
      "source": [
        "# **Practica # 6. Manejo de libreria Pandas**\n",
        "\n",
        "Instrucciones: Carga el archivo titanic.csv en la carpeta correspondiente de Google drive para realizar los siguientes ejercicios\n",
        "\n"
      ],
      "metadata": {
        "id": "tFK5WMkD20ks"
      }
    },
    {
      "cell_type": "code",
      "execution_count": null,
      "metadata": {
        "colab": {
          "base_uri": "https://localhost:8080/"
        },
        "id": "wRDcr2XA2zWH",
        "outputId": "ee502b1f-a8b1-465c-9e8f-e5aefd53afc8"
      },
      "outputs": [
        {
          "output_type": "stream",
          "name": "stdout",
          "text": [
            "Drive already mounted at /content/drive; to attempt to forcibly remount, call drive.mount(\"/content/drive\", force_remount=True).\n"
          ]
        }
      ],
      "source": [
        "from google.colab import drive\n",
        "drive.mount('/content/drive')"
      ]
    },
    {
      "cell_type": "markdown",
      "source": [
        "---\n",
        "**Ejercicio 1**: Análisis de la distribución de supervivencia por combinación de sexo y clase del pasajero.\n",
        "\n",
        "* Calcula la proporción de supervivencia para cada combinación de 'Sex' y 'Pclass'.\n",
        "* Identifica qué combinación tuvo la tasa de supervivencia más alta.\n",
        "* Identifica qué combinación tuvo la tasa de supervivencia más baja.\n"
      ],
      "metadata": {
        "id": "sa8J0oyY358n"
      }
    },
    {
      "cell_type": "code",
      "source": [
        "#Importamo la libreria pandas\n",
        "import pandas as pd\n",
        "#Iniciamos el data frame para leer el archivo de titanic\n",
        "df = pd.read_csv('/content/drive/MyDrive/ClassFiles/Titanic-Dataset.csv')\n",
        "#Creamos el data frame agrupando primero por sex y luego por pclass\n",
        "#seleccionamos la columna survived y obtenemos el promedio de sus datos\n",
        "spv = df.groupby(['Sex','Pclass'])['Survived'].mean()\n",
        "#Usando el comando max, encontramos el valor maximo de su proporcion e imprimimos\n",
        "#los valores correspondinetes a sex y pclas para saber a que subconjunto pertenece\n",
        "print(f'La mayor tasa de supervivientes es: {(spv.max()):.2%} correspondiente a {spv.idxmax()}')\n",
        "#Usando el comando min, encontramos el valor minimo de su proporcion e imprimimos\n",
        "#los valores correspondinetes a sex y pclas para saber a que subconjunto pertenece\n",
        "print(f'La menor tasa de supervivientes es: {(spv.min()):.2%} correspondiente a {spv.idxmin()}')"
      ],
      "metadata": {
        "colab": {
          "base_uri": "https://localhost:8080/"
        },
        "id": "6470XTSk31Qq",
        "outputId": "be90fd55-a272-403f-f700-01dbaa342d71"
      },
      "execution_count": 37,
      "outputs": [
        {
          "output_type": "stream",
          "name": "stdout",
          "text": [
            "La mayor tasa de supervivientes es: 96.81% correspondiente a ('female', 1)\n",
            "La menor tasa de supervivientes es: 13.54% correspondiente a ('male', 3)\n"
          ]
        }
      ]
    },
    {
      "cell_type": "markdown",
      "source": [
        "---\n",
        "**Ejercicio 2**: Identificación de familias grandes a bordo.\n",
        "\n",
        "* Crea una nueva columna 'FamilySize' sumando las columnas 'SibSp' y 'Parch'.\n",
        "* Considera como \"familia grande\" a aquellas donde 'FamilySize' es mayor a 3.\n",
        "* Calcula el número de pasajeros en familias grandes.\n",
        "* Calcula la proporción de supervivencia entre los pasajeros que pertenecen a familias grandes."
      ],
      "metadata": {
        "id": "OKEVfe4V37-3"
      }
    },
    {
      "cell_type": "code",
      "source": [
        "#Importamo la libreria pandas\n",
        "import pandas as pd\n",
        "#Iniciamos el data frame para leer el archivo de titanic\n",
        "df = pd.read_csv('/content/drive/MyDrive/ClassFiles/Titanic-Dataset.csv')\n",
        "#Ahora creamos una nueva columna donde tomaremos del data frame las columnas SibSp y Parch\n",
        "#a las cuales les sumaremos las variables de las columnas antes mencionadas\n",
        "#usando axis = 1 para sumar de forma horizontal\n",
        "df['FamilySize'] = df[['SibSp','Parch']].sum(axis=1)\n",
        "#Ahora creamos otra columna en el Data Frame para identicar familias grandes\n",
        "df['Familia_Grande'] = df['FamilySize'] > 3\n",
        "#Calculamos y guardamos el numero total de personas en familias grandes\n",
        "familia_grande = df['Familia_Grande'].sum()\n",
        "#Imprimimos el resultado\n",
        "print(f'El numero de pasajeros totales en Familia Grande es {familia_grande} personas')\n",
        "#Ahora calculamos la proporcion de supervicencia entre pasajeros que son de familias grandes\n",
        "spv = df[df['Familia_Grande']]['Survived'].mean()\n",
        "#Imprimimos el resultado\n",
        "print(f'La tasa de sobrevivientes en familias grandes es {spv:.2%}')"
      ],
      "metadata": {
        "id": "86BcPGKB38On",
        "colab": {
          "base_uri": "https://localhost:8080/"
        },
        "outputId": "d1f370b8-1b34-4e86-bafc-2a73951cdca9"
      },
      "execution_count": 52,
      "outputs": [
        {
          "output_type": "stream",
          "name": "stdout",
          "text": [
            "El numero de pasajeros totales en Familia Grande es 62 personas\n",
            "La tasa de sobrevivientes en familias grandes es 16.13%\n"
          ]
        }
      ]
    },
    {
      "cell_type": "markdown",
      "source": [
        "---\n",
        "\n",
        "**Ejercicio 3**: Segmentación por grupos de edad.\n",
        "\n",
        "Clasifica a los pasajeros en las siguientes categorías de edad (tip puede resultar mas sencillo realizarlo con una función)\n",
        "\n",
        "* Menor de Edad\n",
        "* Mayor de Edad"
      ],
      "metadata": {
        "id": "2fsAGuf54GiB"
      }
    },
    {
      "cell_type": "code",
      "source": [
        "#Importamo la libreria pandas\n",
        "import pandas as pd\n",
        "#Iniciamos el data frame para leer el archivo de titanic\n",
        "df = pd.read_csv('/content/drive/MyDrive/ClassFiles/Titanic-Dataset.csv')\n",
        "#Eliminamos las filas que no tengan valores en la columna Age\n",
        "df = df.dropna(subset = ['Age'])\n",
        "#Creamos una nueva columna que tome la edad y nos llene la celda para saber\n",
        "#si es menor de edad con la ayuda de lambda y un if\n",
        "df['Clasificacion_Edad'] = df['Age'].apply(lambda x: 'Menor de Edad' if x < 21 else 'Mayor de Edad')\n",
        "#Iniciamos la variable que sumara todos las fila que tengan 'Mayor de Edad'\n",
        "mayoredad = (df['Clasificacion_Edad'] == 'Mayor de Edad').sum()\n",
        "#Iniciamos la variable que sumara todos las fila que tengan 'Menor de Edad'\n",
        "menoredad = (df['Clasificacion_Edad'] == 'Menor de Edad').sum()\n",
        "#Imprimimos los resultados\n",
        "print(f'La cantidad de pasajeros mayores de edad son: {mayoredad}')\n",
        "print(f'La cantidad de pasajeros menores de edad son: {menoredad}')\n"
      ],
      "metadata": {
        "id": "ZoUPpn4O38vf",
        "colab": {
          "base_uri": "https://localhost:8080/"
        },
        "outputId": "5a785871-c7e6-4b03-bead-85cd192e1541"
      },
      "execution_count": 88,
      "outputs": [
        {
          "output_type": "stream",
          "name": "stdout",
          "text": [
            "La cantidad de pasajeros mayores de edad son: 534\n",
            "La cantidad de pasajeros menores de edad son: 180\n"
          ]
        }
      ]
    },
    {
      "cell_type": "markdown",
      "source": [
        "---\n",
        "\n",
        "**Ejercicio 4**: Comparación entre promedios calculados manualmente y con Pandas\n",
        "\n",
        "* Utiliza NumPy para calcular el promedio de las columnas 'Age' y 'Fare', ignorando valores nulos.\n",
        "* Compara estos valores con los promedios obtenidos utilizando los métodos nativos de Pandas.\n",
        "* Verifica que los resultados sean consistentes."
      ],
      "metadata": {
        "id": "RoIOxI_c38pG"
      }
    },
    {
      "cell_type": "code",
      "source": [
        "import pandas as pd\n",
        "import numpy as np\n",
        "df = pd.read_csv('/content/drive/MyDrive/ClassFiles/Titanic-Dataset.csv')\n",
        "#Eliminamos las filas que no tengan valores en la columna Age y Fare\n",
        "df = df.dropna(subset = ['Age','Fare'])\n",
        "#Guardamos en una variable el promedio de los datos de la columna Age con Numpy\n",
        "promagenp = np.mean(df['Age'])\n",
        "#Guardamos en una variable el promedio de los datos de la columna Fare con Numpy\n",
        "promfarenp = np.mean(df['Fare'])\n",
        "#Guardamos en una variable el promedio de los datos de la columna Age con pandas\n",
        "promagepd = df['Age'].mean()\n",
        "#Imprimimos el resultado\n",
        "print(f'El valor promedio de la edad calculado es: {promagepd:.2f}')\n",
        "#Guardamos en una variable el promedio de los datos de la columna Fare con pandas\n",
        "promfarepd = df['Fare'].mean()\n",
        "#Imprimimos el resultado\n",
        "print(f'El valor promedio de la tarifa calculado es: {promfarepd:.2f}')\n",
        "#Checamos que los valores sean consistentes\n",
        "if (promagepd == promagenp) and (promfarepd == promfarenp):\n",
        "  print('Los resultados son concistentes')\n",
        "else:\n",
        "  print('Los resultados no son consistentes')\n",
        "\n"
      ],
      "metadata": {
        "id": "Py3E2QKW38i_",
        "colab": {
          "base_uri": "https://localhost:8080/"
        },
        "collapsed": true,
        "outputId": "db6f4e90-e4eb-4475-ed9c-db6ac5801347"
      },
      "execution_count": 102,
      "outputs": [
        {
          "output_type": "stream",
          "name": "stdout",
          "text": [
            "El valor promedio de la edad calculado es: 29.70\n",
            "El valor promedio de la tarifa calculado es: 34.69\n",
            "Los resultados son concistentes\n"
          ]
        }
      ]
    },
    {
      "cell_type": "markdown",
      "source": [
        "---\n",
        "\n",
        "**Ejercicio 5**. Creación de intervalos de clase usando NumPy y análisis con Pandas\n",
        "\n",
        "* Divide la columna 'Fare' en 5 intervalos equidistantes utilizando la función numpy.linspace, el estudiante deberá investigar la operación de esta función en python.\n",
        "* Crea una nueva columna en el DataFrame que asigne a cada pasajero el intervalo correspondiente de su tarifa.\n",
        "* Calcula el número de pasajeros en cada intervalo utilizando Pandas y la proporción de supervivientes por intervalo."
      ],
      "metadata": {
        "id": "LjNymvL138Z3"
      }
    },
    {
      "cell_type": "code",
      "source": [
        "import pandas as pd\n",
        "import numpy as np\n",
        "df = pd.read_csv('/content/drive/MyDrive/ClassFiles/Titanic-Dataset.csv')\n",
        "#Eliminamos las filas que tengan valores nulos en la columna Fare\n",
        "df = df.dropna(subset = ['Fare'])\n",
        "#Creamos una variable donde guardaremos los intervalos desde la tarifa minima\n",
        "#hasta la maxima, con 6 puntos (es decir 5 intervalos)\n",
        "intervalos = np.linspace(df['Fare'].min(), df['Fare'].max(), num = 6)\n",
        "#Creamos la columna Fare interval para guardar los datos en base a los numeros de intevalos\n",
        "# y asignamos a nombres a cada intervalo segun los valores obtenidos\n",
        "df['Fare_Interval'] = pd.cut(df['Fare'], bins=intervalos, labels=[f'{intervalos[i]:.2f} - {intervalos[i+1]:.2f}' for i in range(len(intervalos)-1)])\n",
        "#Ahora iniciamos la variable conteo para contar los el numero de pasajeros segun su intervalo\n",
        "conteo = df['Fare_Interval'].value_counts()\n",
        "#Inciamos la variable que nos dara la tasa de supervivencia en base el intervalo de tarifa\n",
        "#Imprimimos resultados\n",
        "print(f\"Número de pasajeros en cada intervalo de tarifa:\\n{conteo}\")\n",
        "print(f\"\\nProporción de supervivientes por intervalo:\\n{spv}\")"
      ],
      "metadata": {
        "colab": {
          "base_uri": "https://localhost:8080/"
        },
        "id": "XoJuv7HpJWrJ",
        "outputId": "c8d7ee1a-a37d-4675-b2d9-3b2299ff7434"
      },
      "execution_count": 107,
      "outputs": [
        {
          "output_type": "stream",
          "name": "stdout",
          "text": [
            "Número de pasajeros en cada intervalo de tarifa:\n",
            "Fare_Interval\n",
            "0.00 - 102.47      823\n",
            "102.47 - 204.93     33\n",
            "204.93 - 307.40     17\n",
            "409.86 - 512.33      3\n",
            "307.40 - 409.86      0\n",
            "Name: count, dtype: int64\n",
            "\n",
            "Proporción de supervivientes por intervalo:\n",
            "Fare_Interval\n",
            "0.00 - 102.47      0.366950\n",
            "102.47 - 204.93    0.757576\n",
            "204.93 - 307.40    0.647059\n",
            "307.40 - 409.86         NaN\n",
            "409.86 - 512.33    1.000000\n",
            "Name: Survived, dtype: float64\n"
          ]
        }
      ]
    }
  ]
}